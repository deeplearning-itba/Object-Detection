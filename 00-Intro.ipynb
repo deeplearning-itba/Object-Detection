{
 "cells": [
  {
   "cell_type": "markdown",
   "metadata": {},
   "source": [
    "# Por que YOLO (You Only Look Once)?\n",
    "- State of the art detection\n",
    "- Combinación de multiples técnicas para solucionar un problema de ML\n",
    "- Profundización de técnicas en Keras"
   ]
  },
  {
   "cell_type": "markdown",
   "metadata": {},
   "source": [
    "# Que hace YOLO?\n",
    "Detección de objetos en tiempo real\n",
    "\n",
    "Muy eficiente para problemas como Self-Driven Cars"
   ]
  },
  {
   "cell_type": "markdown",
   "metadata": {},
   "source": [
    "# Papers\n",
    "YOLO: https://arxiv.org/pdf/1506.02640.pdf  \n",
    "YOLOv2 (YOLO9000): https://arxiv.org/abs/1612.08242  \n",
    "YOLOv3: https://arxiv.org/pdf/1804.02767.pdf"
   ]
  },
  {
   "cell_type": "markdown",
   "metadata": {},
   "source": [
    "# Blogs interesantes:"
   ]
  },
  {
   "cell_type": "markdown",
   "metadata": {},
   "source": [
    "http://machinethink.net/blog/object-detection-with-yolo/    \n",
    "https://heartbeat.fritz.ai/gentle-guide-on-how-yolo-object-localization-works-with-keras-part-2-65fe59ac12d  \n",
    "https://medium.com/@jonathan_hui/map-mean-average-precision-for-object-detection-45c121a31173  \n",
    "https://medium.com/@jonathan_hui/real-time-object-detection-with-yolo-yolov2-28b1b93e2088  \n",
    "https://leonardoaraujosantos.gitbooks.io/artificial-inteligence/content/single-shot-detectors/yolo.html  \n",
    "https://towardsdatascience.com/yolo-v3-object-detection-53fb7d3bfe6b  \n",
    "https://medium.com/@jonathan_hui/object-detection-speed-and-accuracy-comparison-faster-r-cnn-r-fcn-ssd-and-yolo-5425656ae359  \n",
    "https://towardsdatascience.com/r-cnn-fast-r-cnn-faster-r-cnn-yolo-object-detection-algorithms-36d53571365e"
   ]
  },
  {
   "cell_type": "markdown",
   "metadata": {},
   "source": [
    "# Otras técnicas:\n",
    "- ## Retina Net\n",
    "- ## SSD (Single Shot Multibox Detection) - Muy Similar a YOLO\n",
    "- ## R-CNN, Fast R-CNN, Faster R-CNN"
   ]
  },
  {
   "cell_type": "markdown",
   "metadata": {},
   "source": [
    "![region-proposal.png](region-proposal.png)"
   ]
  },
  {
   "cell_type": "markdown",
   "metadata": {},
   "source": [
    "# Tiempo de inferncia vs AP (Average Precision)"
   ]
  },
  {
   "cell_type": "markdown",
   "metadata": {},
   "source": [
    "![](comparativa.png)"
   ]
  }
 ],
 "metadata": {
  "kernelspec": {
   "display_name": "Python 3",
   "language": "python",
   "name": "python3"
  },
  "language_info": {
   "codemirror_mode": {
    "name": "ipython",
    "version": 3
   },
   "file_extension": ".py",
   "mimetype": "text/x-python",
   "name": "python",
   "nbconvert_exporter": "python",
   "pygments_lexer": "ipython3",
   "version": "3.6.8"
  }
 },
 "nbformat": 4,
 "nbformat_minor": 2
}
