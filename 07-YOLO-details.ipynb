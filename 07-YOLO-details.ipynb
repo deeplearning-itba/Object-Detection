{
 "cells": [
  {
   "cell_type": "code",
   "execution_count": 1,
   "metadata": {},
   "outputs": [],
   "source": [
    "%load_ext autoreload\n",
    "%autoreload 2"
   ]
  },
  {
   "cell_type": "code",
   "execution_count": 2,
   "metadata": {},
   "outputs": [
    {
     "name": "stderr",
     "output_type": "stream",
     "text": [
      "Using TensorFlow backend.\n"
     ]
    }
   ],
   "source": [
    "from custom_losses import n_classes, set_classes"
   ]
  },
  {
   "cell_type": "code",
   "execution_count": 3,
   "metadata": {},
   "outputs": [
    {
     "data": {
      "text/plain": [
       "6"
      ]
     },
     "execution_count": 3,
     "metadata": {},
     "output_type": "execute_result"
    }
   ],
   "source": [
    "n_classes"
   ]
  },
  {
   "cell_type": "code",
   "execution_count": 4,
   "metadata": {},
   "outputs": [],
   "source": [
    "set_classes(8)"
   ]
  },
  {
   "cell_type": "code",
   "execution_count": 5,
   "metadata": {},
   "outputs": [],
   "source": [
    "from custom_losses import n_classes"
   ]
  },
  {
   "cell_type": "code",
   "execution_count": 6,
   "metadata": {},
   "outputs": [
    {
     "data": {
      "text/plain": [
       "8"
      ]
     },
     "execution_count": 6,
     "metadata": {},
     "output_type": "execute_result"
    }
   ],
   "source": [
    "n_classes"
   ]
  },
  {
   "cell_type": "code",
   "execution_count": 7,
   "metadata": {},
   "outputs": [],
   "source": [
    "from yolo_helper import get_YOLO_V2_NN"
   ]
  },
  {
   "cell_type": "markdown",
   "metadata": {},
   "source": [
    "# Detalles YOLO"
   ]
  },
  {
   "cell_type": "markdown",
   "metadata": {},
   "source": [
    "# Arquitectura YOLO 2\n",
    "Detalles en Repo: https://github.com/experiencor/keras-yolo2"
   ]
  },
  {
   "cell_type": "code",
   "execution_count": 31,
   "metadata": {},
   "outputs": [],
   "source": [
    "# Cambiar la cantidad de GRIDs\n",
    "LABELS = ['person', 'bicycle', 'car', 'motorcycle', 'airplane', 'bus', 'train', 'truck', 'boat', 'traffic light', 'fire hydrant', 'stop sign', 'parking meter', 'bench', 'bird', 'cat', 'dog', 'horse', 'sheep', 'cow', 'elephant', 'bear', 'zebra', 'giraffe', 'backpack', 'umbrella', 'handbag', 'tie', 'suitcase', 'frisbee', 'skis', 'snowboard', 'sports ball', 'kite', 'baseball bat', 'baseball glove', 'skateboard', 'surfboard', 'tennis racket', 'bottle', 'wine glass', 'cup', 'fork', 'knife', 'spoon', 'bowl', 'banana', 'apple', 'sandwich', 'orange', 'broccoli', 'carrot', 'hot dog', 'pizza', 'donut', 'cake', 'chair', 'couch', 'potted plant', 'bed', 'dining table', 'toilet', 'tv', 'laptop', 'mouse', 'remote', 'keyboard', 'cell phone', 'microwave', 'oven', 'toaster', 'sink', 'refrigerator', 'book', 'clock', 'vase', 'scissors', 'teddy bear', 'hair drier', 'toothbrush']\n",
    "\n",
    "GRID_H,  GRID_W  = 10 , 13\n",
    "IMAGE_H, IMAGE_W = GRID_H*32, GRID_W*32\n",
    "BOX              = 5\n",
    "CLASS            = len(LABELS)"
   ]
  },
  {
   "cell_type": "code",
   "execution_count": 32,
   "metadata": {},
   "outputs": [
    {
     "name": "stdout",
     "output_type": "stream",
     "text": [
      "320 416\n"
     ]
    }
   ],
   "source": [
    "print(IMAGE_H, IMAGE_W)"
   ]
  },
  {
   "cell_type": "code",
   "execution_count": 33,
   "metadata": {},
   "outputs": [],
   "source": [
    "CLASS = 8"
   ]
  },
  {
   "cell_type": "code",
   "execution_count": 34,
   "metadata": {},
   "outputs": [
    {
     "name": "stdout",
     "output_type": "stream",
     "text": [
      "Tensor(\"reshape_10/Reshape:0\", shape=(?, 2, 2, 5, 13), dtype=float32)\n"
     ]
    }
   ],
   "source": [
    "model = get_YOLO_V2_NN(64, 64, BOX, CLASS, GAP=False)\n",
    "print(model.layers[-1].output)"
   ]
  },
  {
   "cell_type": "code",
   "execution_count": 20,
   "metadata": {},
   "outputs": [
    {
     "name": "stdout",
     "output_type": "stream",
     "text": [
      "__________________________________________________________________________________________________\n",
      "Layer (type)                    Output Shape         Param #     Connected to                     \n",
      "==================================================================================================\n",
      "input_6 (InputLayer)            (None, 64, 64, 3)    0                                            \n",
      "__________________________________________________________________________________________________\n",
      "conv_1 (Conv2D)                 (None, 64, 64, 32)   864         input_6[0][0]                    \n",
      "__________________________________________________________________________________________________\n",
      "norm_1 (BatchNormalization)     (None, 64, 64, 32)   128         conv_1[0][0]                     \n",
      "__________________________________________________________________________________________________\n",
      "leaky_re_lu_111 (LeakyReLU)     (None, 64, 64, 32)   0           norm_1[0][0]                     \n",
      "__________________________________________________________________________________________________\n",
      "max_pooling2d_26 (MaxPooling2D) (None, 32, 32, 32)   0           leaky_re_lu_111[0][0]            \n",
      "__________________________________________________________________________________________________\n",
      "conv_2 (Conv2D)                 (None, 32, 32, 64)   18432       max_pooling2d_26[0][0]           \n",
      "__________________________________________________________________________________________________\n",
      "norm_2 (BatchNormalization)     (None, 32, 32, 64)   256         conv_2[0][0]                     \n",
      "__________________________________________________________________________________________________\n",
      "leaky_re_lu_112 (LeakyReLU)     (None, 32, 32, 64)   0           norm_2[0][0]                     \n",
      "__________________________________________________________________________________________________\n",
      "max_pooling2d_27 (MaxPooling2D) (None, 16, 16, 64)   0           leaky_re_lu_112[0][0]            \n",
      "__________________________________________________________________________________________________\n",
      "conv_3 (Conv2D)                 (None, 16, 16, 128)  73728       max_pooling2d_27[0][0]           \n",
      "__________________________________________________________________________________________________\n",
      "norm_3 (BatchNormalization)     (None, 16, 16, 128)  512         conv_3[0][0]                     \n",
      "__________________________________________________________________________________________________\n",
      "leaky_re_lu_113 (LeakyReLU)     (None, 16, 16, 128)  0           norm_3[0][0]                     \n",
      "__________________________________________________________________________________________________\n",
      "conv_4 (Conv2D)                 (None, 16, 16, 64)   8192        leaky_re_lu_113[0][0]            \n",
      "__________________________________________________________________________________________________\n",
      "norm_4 (BatchNormalization)     (None, 16, 16, 64)   256         conv_4[0][0]                     \n",
      "__________________________________________________________________________________________________\n",
      "leaky_re_lu_114 (LeakyReLU)     (None, 16, 16, 64)   0           norm_4[0][0]                     \n",
      "__________________________________________________________________________________________________\n",
      "conv_5 (Conv2D)                 (None, 16, 16, 128)  73728       leaky_re_lu_114[0][0]            \n",
      "__________________________________________________________________________________________________\n",
      "norm_5 (BatchNormalization)     (None, 16, 16, 128)  512         conv_5[0][0]                     \n",
      "__________________________________________________________________________________________________\n",
      "leaky_re_lu_115 (LeakyReLU)     (None, 16, 16, 128)  0           norm_5[0][0]                     \n",
      "__________________________________________________________________________________________________\n",
      "max_pooling2d_28 (MaxPooling2D) (None, 8, 8, 128)    0           leaky_re_lu_115[0][0]            \n",
      "__________________________________________________________________________________________________\n",
      "conv_6 (Conv2D)                 (None, 8, 8, 256)    294912      max_pooling2d_28[0][0]           \n",
      "__________________________________________________________________________________________________\n",
      "norm_6 (BatchNormalization)     (None, 8, 8, 256)    1024        conv_6[0][0]                     \n",
      "__________________________________________________________________________________________________\n",
      "leaky_re_lu_116 (LeakyReLU)     (None, 8, 8, 256)    0           norm_6[0][0]                     \n",
      "__________________________________________________________________________________________________\n",
      "conv_7 (Conv2D)                 (None, 8, 8, 128)    32768       leaky_re_lu_116[0][0]            \n",
      "__________________________________________________________________________________________________\n",
      "norm_7 (BatchNormalization)     (None, 8, 8, 128)    512         conv_7[0][0]                     \n",
      "__________________________________________________________________________________________________\n",
      "leaky_re_lu_117 (LeakyReLU)     (None, 8, 8, 128)    0           norm_7[0][0]                     \n",
      "__________________________________________________________________________________________________\n",
      "conv_8 (Conv2D)                 (None, 8, 8, 256)    294912      leaky_re_lu_117[0][0]            \n",
      "__________________________________________________________________________________________________\n",
      "norm_8 (BatchNormalization)     (None, 8, 8, 256)    1024        conv_8[0][0]                     \n",
      "__________________________________________________________________________________________________\n",
      "leaky_re_lu_118 (LeakyReLU)     (None, 8, 8, 256)    0           norm_8[0][0]                     \n",
      "__________________________________________________________________________________________________\n",
      "max_pooling2d_29 (MaxPooling2D) (None, 4, 4, 256)    0           leaky_re_lu_118[0][0]            \n",
      "__________________________________________________________________________________________________\n",
      "conv_9 (Conv2D)                 (None, 4, 4, 512)    1179648     max_pooling2d_29[0][0]           \n",
      "__________________________________________________________________________________________________\n",
      "norm_9 (BatchNormalization)     (None, 4, 4, 512)    2048        conv_9[0][0]                     \n",
      "__________________________________________________________________________________________________\n",
      "leaky_re_lu_119 (LeakyReLU)     (None, 4, 4, 512)    0           norm_9[0][0]                     \n",
      "__________________________________________________________________________________________________\n",
      "conv_10 (Conv2D)                (None, 4, 4, 256)    131072      leaky_re_lu_119[0][0]            \n",
      "__________________________________________________________________________________________________\n",
      "norm_10 (BatchNormalization)    (None, 4, 4, 256)    1024        conv_10[0][0]                    \n",
      "__________________________________________________________________________________________________\n",
      "leaky_re_lu_120 (LeakyReLU)     (None, 4, 4, 256)    0           norm_10[0][0]                    \n",
      "__________________________________________________________________________________________________\n",
      "conv_11 (Conv2D)                (None, 4, 4, 512)    1179648     leaky_re_lu_120[0][0]            \n",
      "__________________________________________________________________________________________________\n",
      "norm_11 (BatchNormalization)    (None, 4, 4, 512)    2048        conv_11[0][0]                    \n",
      "__________________________________________________________________________________________________\n",
      "leaky_re_lu_121 (LeakyReLU)     (None, 4, 4, 512)    0           norm_11[0][0]                    \n",
      "__________________________________________________________________________________________________\n",
      "conv_12 (Conv2D)                (None, 4, 4, 256)    131072      leaky_re_lu_121[0][0]            \n",
      "__________________________________________________________________________________________________\n",
      "norm_12 (BatchNormalization)    (None, 4, 4, 256)    1024        conv_12[0][0]                    \n",
      "__________________________________________________________________________________________________\n",
      "leaky_re_lu_122 (LeakyReLU)     (None, 4, 4, 256)    0           norm_12[0][0]                    \n",
      "__________________________________________________________________________________________________\n",
      "conv_13 (Conv2D)                (None, 4, 4, 512)    1179648     leaky_re_lu_122[0][0]            \n",
      "__________________________________________________________________________________________________\n",
      "norm_13 (BatchNormalization)    (None, 4, 4, 512)    2048        conv_13[0][0]                    \n",
      "__________________________________________________________________________________________________\n",
      "leaky_re_lu_123 (LeakyReLU)     (None, 4, 4, 512)    0           norm_13[0][0]                    \n",
      "__________________________________________________________________________________________________\n",
      "max_pooling2d_30 (MaxPooling2D) (None, 2, 2, 512)    0           leaky_re_lu_123[0][0]            \n",
      "__________________________________________________________________________________________________\n",
      "conv_14 (Conv2D)                (None, 2, 2, 1024)   4718592     max_pooling2d_30[0][0]           \n",
      "__________________________________________________________________________________________________\n",
      "norm_14 (BatchNormalization)    (None, 2, 2, 1024)   4096        conv_14[0][0]                    \n",
      "__________________________________________________________________________________________________\n",
      "leaky_re_lu_124 (LeakyReLU)     (None, 2, 2, 1024)   0           norm_14[0][0]                    \n",
      "__________________________________________________________________________________________________\n",
      "conv_15 (Conv2D)                (None, 2, 2, 512)    524288      leaky_re_lu_124[0][0]            \n",
      "__________________________________________________________________________________________________\n",
      "norm_15 (BatchNormalization)    (None, 2, 2, 512)    2048        conv_15[0][0]                    \n",
      "__________________________________________________________________________________________________\n",
      "leaky_re_lu_125 (LeakyReLU)     (None, 2, 2, 512)    0           norm_15[0][0]                    \n",
      "__________________________________________________________________________________________________\n",
      "conv_16 (Conv2D)                (None, 2, 2, 1024)   4718592     leaky_re_lu_125[0][0]            \n",
      "__________________________________________________________________________________________________\n",
      "norm_16 (BatchNormalization)    (None, 2, 2, 1024)   4096        conv_16[0][0]                    \n",
      "__________________________________________________________________________________________________\n",
      "leaky_re_lu_126 (LeakyReLU)     (None, 2, 2, 1024)   0           norm_16[0][0]                    \n",
      "__________________________________________________________________________________________________\n",
      "conv_17 (Conv2D)                (None, 2, 2, 512)    524288      leaky_re_lu_126[0][0]            \n",
      "__________________________________________________________________________________________________\n",
      "norm_17 (BatchNormalization)    (None, 2, 2, 512)    2048        conv_17[0][0]                    \n",
      "__________________________________________________________________________________________________\n",
      "leaky_re_lu_127 (LeakyReLU)     (None, 2, 2, 512)    0           norm_17[0][0]                    \n",
      "__________________________________________________________________________________________________\n",
      "conv_18 (Conv2D)                (None, 2, 2, 1024)   4718592     leaky_re_lu_127[0][0]            \n",
      "__________________________________________________________________________________________________\n",
      "norm_18 (BatchNormalization)    (None, 2, 2, 1024)   4096        conv_18[0][0]                    \n",
      "__________________________________________________________________________________________________\n",
      "leaky_re_lu_128 (LeakyReLU)     (None, 2, 2, 1024)   0           norm_18[0][0]                    \n",
      "__________________________________________________________________________________________________\n",
      "conv_19 (Conv2D)                (None, 2, 2, 1024)   9437184     leaky_re_lu_128[0][0]            \n",
      "__________________________________________________________________________________________________\n",
      "norm_19 (BatchNormalization)    (None, 2, 2, 1024)   4096        conv_19[0][0]                    \n",
      "__________________________________________________________________________________________________\n",
      "conv_21 (Conv2D)                (None, 4, 4, 64)     32768       leaky_re_lu_123[0][0]            \n",
      "__________________________________________________________________________________________________\n",
      "leaky_re_lu_129 (LeakyReLU)     (None, 2, 2, 1024)   0           norm_19[0][0]                    \n",
      "__________________________________________________________________________________________________\n",
      "norm_21 (BatchNormalization)    (None, 4, 4, 64)     256         conv_21[0][0]                    \n",
      "__________________________________________________________________________________________________\n",
      "conv_20 (Conv2D)                (None, 2, 2, 1024)   9437184     leaky_re_lu_129[0][0]            \n",
      "__________________________________________________________________________________________________\n",
      "leaky_re_lu_131 (LeakyReLU)     (None, 4, 4, 64)     0           norm_21[0][0]                    \n",
      "__________________________________________________________________________________________________\n",
      "norm_20 (BatchNormalization)    (None, 2, 2, 1024)   4096        conv_20[0][0]                    \n",
      "__________________________________________________________________________________________________\n",
      "lambda_6 (Lambda)               (None, 2, 2, 256)    0           leaky_re_lu_131[0][0]            \n",
      "__________________________________________________________________________________________________\n",
      "leaky_re_lu_130 (LeakyReLU)     (None, 2, 2, 1024)   0           norm_20[0][0]                    \n",
      "__________________________________________________________________________________________________\n",
      "concatenate_6 (Concatenate)     (None, 2, 2, 1280)   0           lambda_6[0][0]                   \n",
      "                                                                 leaky_re_lu_130[0][0]            \n",
      "__________________________________________________________________________________________________\n",
      "conv_22 (Conv2D)                (None, 2, 2, 1024)   11796480    concatenate_6[0][0]              \n",
      "__________________________________________________________________________________________________\n",
      "norm_22 (BatchNormalization)    (None, 2, 2, 1024)   4096        conv_22[0][0]                    \n",
      "__________________________________________________________________________________________________\n",
      "leaky_re_lu_132 (LeakyReLU)     (None, 2, 2, 1024)   0           norm_22[0][0]                    \n",
      "__________________________________________________________________________________________________\n",
      "conv_23 (Conv2D)                (None, 2, 2, 50)     51250       leaky_re_lu_132[0][0]            \n",
      "__________________________________________________________________________________________________\n",
      "reshape_6 (Reshape)             (None, Dimension(2), 0           conv_23[0][0]                    \n",
      "==================================================================================================\n",
      "Total params: 50,599,186\n",
      "Trainable params: 50,578,514\n",
      "Non-trainable params: 20,672\n",
      "__________________________________________________________________________________________________\n"
     ]
    }
   ],
   "source": [
    "model.summary()"
   ]
  },
  {
   "cell_type": "markdown",
   "metadata": {},
   "source": [
    "Que es el 5? por que 13x13? que es el 85?"
   ]
  },
  {
   "cell_type": "code",
   "execution_count": 17,
   "metadata": {},
   "outputs": [
    {
     "data": {
      "text/plain": [
       "85"
      ]
     },
     "execution_count": 17,
     "metadata": {},
     "output_type": "execute_result"
    }
   ],
   "source": [
    "4 + 1 + CLASS"
   ]
  },
  {
   "cell_type": "markdown",
   "metadata": {},
   "source": [
    "# Función de costo YOLO V1"
   ]
  },
  {
   "cell_type": "markdown",
   "metadata": {},
   "source": [
    "![](ecuaciones.png)"
   ]
  },
  {
   "cell_type": "markdown",
   "metadata": {},
   "source": [
    "- En YOLO v1 solo se selecciona un objeto por celda de la grilla, por eso no hay sumatoria en j\n",
    "- En YOLO v2 se agrega la suma en j en el ultimo término entre otras cosas"
   ]
  },
  {
   "cell_type": "markdown",
   "metadata": {},
   "source": [
    "# Cuantas predicciones hace?"
   ]
  },
  {
   "cell_type": "markdown",
   "metadata": {},
   "source": [
    "![](yolo-example.png)"
   ]
  },
  {
   "cell_type": "markdown",
   "metadata": {},
   "source": [
    "# NMS (Non-Max Supression)"
   ]
  },
  {
   "cell_type": "markdown",
   "metadata": {},
   "source": [
    "![](non-max-supression.png)"
   ]
  },
  {
   "cell_type": "markdown",
   "metadata": {},
   "source": [
    "# YOLO v3"
   ]
  },
  {
   "cell_type": "markdown",
   "metadata": {},
   "source": [
    "A YOLO v2 le fataban los principales elementos de la mayoría de las arquitecturas del estado del arte:\n",
    "- No tiene bloques residuales\n",
    "- No tiene upsampling\n",
    "- No tiene \"skip connections\" (??) Dice que YOLO v2 tiene un \"paththrough connection\"\n",
    "(Muchos papers usan \"skip connections\" y \"residual connections\" intercambiables\n",
    "- Utiliza conceptos similares a FPN (Feature Pyramid Networks) para RPN (Region Proposal Networks):  \n",
    "paper: https://arxiv.org/pdf/1612.03144.pdf  (Abril 2017)  \n",
    "blogs:\n",
    "https://medium.com/@jonathan_hui/understanding-feature-pyramid-networks-for-object-detection-fpn-45b227b9106c  \n",
    "https://medium.com/@jonathan_hui/what-do-we-learn-from-single-shot-object-detectors-ssd-yolo-fpn-focal-loss-3888677c5f4d\n",
    "\n",
    "\n",
    "\"However, YOLO v2’s architecture was still lacking some of the most important elements that are now staple in most of state-of-the art algorithms. No residual blocks, no skip connections and no upsampling. YOLO v3 incorporates all of these.\""
   ]
  },
  {
   "cell_type": "markdown",
   "metadata": {},
   "source": [
    "Blog de YOLO v3:\n",
    "https://towardsdatascience.com/yolo-v3-object-detection-53fb7d3bfe6b"
   ]
  },
  {
   "cell_type": "markdown",
   "metadata": {},
   "source": [
    "![](yoloV3Arq.png)"
   ]
  },
  {
   "cell_type": "markdown",
   "metadata": {},
   "source": [
    "ResNet paper: https://arxiv.org/pdf/1512.03385.pdf"
   ]
  },
  {
   "cell_type": "markdown",
   "metadata": {},
   "source": [
    "![](residual_blocks.png)"
   ]
  },
  {
   "cell_type": "markdown",
   "metadata": {},
   "source": [
    "# Concepto de identity mapping de los bloques residuales"
   ]
  },
  {
   "cell_type": "markdown",
   "metadata": {},
   "source": [
    "# FPN with RPN"
   ]
  },
  {
   "cell_type": "markdown",
   "metadata": {},
   "source": [
    "![](fpn-rpn.png)"
   ]
  }
 ],
 "metadata": {
  "kernelspec": {
   "display_name": "Python 3",
   "language": "python",
   "name": "python3"
  },
  "language_info": {
   "codemirror_mode": {
    "name": "ipython",
    "version": 3
   },
   "file_extension": ".py",
   "mimetype": "text/x-python",
   "name": "python",
   "nbconvert_exporter": "python",
   "pygments_lexer": "ipython3",
   "version": "3.6.8"
  }
 },
 "nbformat": 4,
 "nbformat_minor": 2
}
